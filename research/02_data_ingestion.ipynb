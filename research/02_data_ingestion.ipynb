{
 "cells": [
  {
   "cell_type": "code",
   "execution_count": 1,
   "metadata": {},
   "outputs": [
    {
     "data": {
      "text/plain": [
       "'x:\\\\CampusX\\\\projects\\\\end-to-end_laptop_project\\\\research'"
      ]
     },
     "execution_count": 1,
     "metadata": {},
     "output_type": "execute_result"
    }
   ],
   "source": [
    "%pwd"
   ]
  },
  {
   "cell_type": "code",
   "execution_count": 2,
   "metadata": {},
   "outputs": [],
   "source": [
    "import os\n",
    "os.chdir(\"../\")"
   ]
  },
  {
   "cell_type": "code",
   "execution_count": 3,
   "metadata": {},
   "outputs": [
    {
     "data": {
      "text/plain": [
       "'x:\\\\CampusX\\\\projects\\\\end-to-end_laptop_project'"
      ]
     },
     "execution_count": 3,
     "metadata": {},
     "output_type": "execute_result"
    }
   ],
   "source": [
    "%pwd"
   ]
  },
  {
   "cell_type": "code",
   "execution_count": 4,
   "metadata": {},
   "outputs": [],
   "source": [
    "from dataclasses import dataclass\n",
    "from pathlib import Path\n",
    "\n",
    "@dataclass(frozen=True)\n",
    "class DataIngestionConfig:\n",
    "    root_dir: Path\n",
    "    html_file_path: Path\n",
    "    data_path: Path"
   ]
  },
  {
   "cell_type": "code",
   "execution_count": 5,
   "metadata": {},
   "outputs": [],
   "source": [
    "from laptop_ml.constants import *\n",
    "from laptop_ml.utils.common import read_yaml , create_directories\n",
    "\n",
    "class ConfigurationManager:\n",
    "    def __init__(self,\n",
    "                 config_file_path=CONFIG_FILE_PATH,\n",
    "                 params_file_path=PARAMS_FILE_PATH) :\n",
    "        self.config=read_yaml(config_file_path)\n",
    "        self.params=read_yaml(params_file_path)\n",
    "\n",
    "        create_directories([self.config.artifacts])\n",
    "\n",
    "    def get_data_ingestion_config(self)->DataIngestionConfig:\n",
    "        config=self.config.data_ingestion\n",
    "        create_directories([config.root_dir])\n",
    "\n",
    "        data_ingestion_config=DataIngestionConfig(\n",
    "            root_dir=config.root_dir,\n",
    "            html_file_path=config.html_file_path,\n",
    "            data_path=config.data_path\n",
    "\n",
    "        )\n",
    "\n",
    "        return data_ingestion_config"
   ]
  },
  {
   "cell_type": "code",
   "execution_count": 6,
   "metadata": {},
   "outputs": [],
   "source": [
    "import numpy as np\n",
    "import pandas as pd\n",
    "from bs4 import BeautifulSoup\n",
    "from selenium import webdriver\n",
    "from selenium.webdriver.chrome.service import Service\n",
    "from selenium.webdriver.common.by import By\n",
    "import time"
   ]
  },
  {
   "cell_type": "code",
   "execution_count": 7,
   "metadata": {},
   "outputs": [],
   "source": [
    "class DataIngestion:\n",
    "    def __init__(self,config: DataIngestionConfig):\n",
    "        self.driver=webdriver.Chrome()\n",
    "        self.config=config\n",
    "        self.name=[]\n",
    "        self.price=[]\n",
    "        self.ratings=[]\n",
    "        self.num_rating_reviews=[]\n",
    "        self.general=[]\n",
    "        self.display=[]\n",
    "        self.performance=[]\n",
    "        self.connectivity=[]\n",
    "        self.battery=[]\n",
    "        self.others=[]\n",
    "        self.html=None\n",
    "        self.soup=None\n",
    "        self.df=None\n",
    "        \n",
    "\n",
    "    def read_html(self):\n",
    "        with open(self.config.html_file_path,'r',encoding='utf-8') as f:\n",
    "            self.html = f.read()\n",
    "        self.soup = BeautifulSoup(self.html,'lxml')\n",
    "\n",
    "    def extractor(self):\n",
    "        try:\n",
    "            self.name.append(self.driver.find_element(by=By.XPATH, value='//*[@id=\"app\"]/main/div[1]/div[2]/div[1]/div[1]/h1').text)\n",
    "        except:\n",
    "            self.name.append(np.nan)\n",
    "        try:\n",
    "            self.price.append(self.driver.find_element(by=By.XPATH, value='//*[@id=\"app\"]/main/div[1]/div[2]/div[1]/div[1]/div/div[2]/strong').text)\n",
    "        except:\n",
    "            self.price.append(np.nan)\n",
    "        try:\n",
    "            self.ratings.append(self.driver.find_element(by=By.XPATH, value='//*[@id=\"app\"]/main/div[1]/div[2]/div[1]/div[1]/div/div[1]/span[2]').text)\n",
    "        except:\n",
    "            self.ratings.append(np.nan)\n",
    "        try:\n",
    "            self.num_rating_reviews.append(self.driver.find_element(by=By.XPATH, value='//*[@id=\"app\"]/main/div[1]/div[2]/div[1]/div[1]/div/div[1]/span[1]').get_attribute('style'))\n",
    "        except:\n",
    "            self.num_rating_reviews.append(np.nan)\n",
    "\n",
    "\n",
    "        specs=self.soup.find(\"div\",{\"class\":\"sm-quick-specs\"}).find_all(\"ul\")\n",
    "        list=[]\n",
    "        if len(specs)==5:\n",
    "            for j in specs[0].find_all(\"li\"):\n",
    "                list.append(j.text)\n",
    "            self.general.append(list)\n",
    "            list=[]\n",
    "            for j in specs[1].find_all(\"li\"):\n",
    "                list.append(j.text)\n",
    "            self.display.append(list)\n",
    "            list=[]\n",
    "            for j in specs[2].find_all(\"li\"):\n",
    "                list.append(j.text)\n",
    "            self.performance.append(list)\n",
    "            list=[]\n",
    "            for j in specs[3].find_all(\"li\"):\n",
    "                list.append(j.text)\n",
    "            self.connectivity.append(list)\n",
    "            list=[]\n",
    "            for j in specs[4].find_all(\"li\"):\n",
    "                list.append(j.text)\n",
    "            self.battery.append(list)\n",
    "            self.others.append(np.nan)\n",
    "        elif len(specs)>5:\n",
    "            for j in specs[0].find_all(\"li\"):\n",
    "                list.append(j.text)\n",
    "            self.general.append(list)\n",
    "            list=[]\n",
    "            for j in specs[1].find_all(\"li\"):\n",
    "                list.append(j.text)\n",
    "            self.display.append(list)\n",
    "            list=[]\n",
    "            for j in specs[2].find_all(\"li\"):\n",
    "                list.append(j.text)\n",
    "            self.performance.append(list)\n",
    "            list=[]\n",
    "            for j in specs[3].find_all(\"li\"):\n",
    "                list.append(j.text)\n",
    "            self.connectivity.append(list)\n",
    "            list=[]\n",
    "            for j in specs[4].find_all(\"li\"):\n",
    "                list.append(j.text)\n",
    "            self.battery.append(list)\n",
    "            list=[]\n",
    "            for j in specs[5].find_all(\"li\"):\n",
    "                list.append(j.text)\n",
    "            self.others.append(list)\n",
    "            \n",
    "        else:\n",
    "            for j in specs[0].find_all(\"li\"):\n",
    "                list.append(j.text)\n",
    "            self.general.append(list)\n",
    "            list=[]\n",
    "            for j in specs[1].find_all(\"li\"):\n",
    "                list.append(j.text)\n",
    "            self.display.append(list)\n",
    "            list=[]\n",
    "            for j in specs[2].find_all(\"li\"):\n",
    "                list.append(j.text)\n",
    "            self.performance.append(list)\n",
    "            list=[]\n",
    "            for j in specs[3].find_all(\"li\"):\n",
    "                list.append(j.text)\n",
    "            self.connectivity.append(list)\n",
    "            self.battery.append(np.nan)\n",
    "            self.others.append(np.nan)\n",
    "        \n",
    "\n",
    "    def data_extractor(self):\n",
    "        containers=self.soup.find_all(\"div\",\"sm-product has-tag has-features has-actions\")\n",
    "        for i in containers:\n",
    "            anchor_tags=i.find(\"a\")\n",
    "            half_link=anchor_tags.get(\"href\")\n",
    "            link= \"https://www.smartprix.com{}\".format(half_link)\n",
    "            self.driver.get(link)\n",
    "            time.sleep(5)\n",
    "            self.extractor()\n",
    "        self.driver.close()\n",
    "\n",
    "    def convert_to_df(self):\n",
    "        self.df=pd.DataFrame({\n",
    "                \"name\":self.name,\n",
    "                \"price\":self.price,\n",
    "                \"ratings\":self.ratings,\n",
    "                \"num_rating_reviews\":self.num_rating_reviews,\n",
    "                \"general\":self.general,\n",
    "                \"display\":self.display,\n",
    "                \"performance\":self.performance,\n",
    "                \"connectivity\":self.connectivity,\n",
    "                \"battery\":self.battery,\n",
    "                \n",
    "            })\n",
    "        \n",
    "    def export_df(self):\n",
    "        self.df.to_csv(self.config.data_path)\n",
    "\n"
   ]
  },
  {
   "cell_type": "code",
   "execution_count": null,
   "metadata": {},
   "outputs": [
    {
     "ename": "",
     "evalue": "",
     "output_type": "error",
     "traceback": [
      "\u001b[1;31mThe Kernel crashed while executing code in the current cell or a previous cell. \n",
      "\u001b[1;31mPlease review the code in the cell(s) to identify a possible cause of the failure. \n",
      "\u001b[1;31mClick <a href='https://aka.ms/vscodeJupyterKernelCrash'>here</a> for more info. \n",
      "\u001b[1;31mView Jupyter <a href='command:jupyter.viewOutput'>log</a> for further details."
     ]
    }
   ],
   "source": [
    "try:\n",
    "    config=ConfigurationManager()\n",
    "    data_ingestion_config=config.get_data_ingestion_config()\n",
    "    data_ingestion=DataIngestion(config=data_ingestion_config)\n",
    "    data_ingestion.read_html()\n",
    "    data_ingestion.data_extractor()\n",
    "    data_ingestion.convert_to_df()\n",
    "    data_ingestion.export_df()\n",
    "except Exception as e:\n",
    "    raise e\n"
   ]
  },
  {
   "cell_type": "code",
   "execution_count": null,
   "metadata": {},
   "outputs": [],
   "source": []
  }
 ],
 "metadata": {
  "kernelspec": {
   "display_name": "laptopnenv",
   "language": "python",
   "name": "python3"
  },
  "language_info": {
   "codemirror_mode": {
    "name": "ipython",
    "version": 3
   },
   "file_extension": ".py",
   "mimetype": "text/x-python",
   "name": "python",
   "nbconvert_exporter": "python",
   "pygments_lexer": "ipython3",
   "version": "3.12.4"
  }
 },
 "nbformat": 4,
 "nbformat_minor": 2
}
