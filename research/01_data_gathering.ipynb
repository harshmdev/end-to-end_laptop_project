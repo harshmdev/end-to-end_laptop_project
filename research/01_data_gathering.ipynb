{
 "cells": [
  {
   "cell_type": "code",
   "execution_count": 2,
   "metadata": {},
   "outputs": [
    {
     "data": {
      "text/plain": [
       "'x:\\\\CampusX\\\\projects\\\\end-to-end_laptop_project\\\\research'"
      ]
     },
     "execution_count": 2,
     "metadata": {},
     "output_type": "execute_result"
    }
   ],
   "source": [
    "%pwd"
   ]
  },
  {
   "cell_type": "code",
   "execution_count": 3,
   "metadata": {},
   "outputs": [],
   "source": [
    "import os\n",
    "os.chdir(\"../\")"
   ]
  },
  {
   "cell_type": "code",
   "execution_count": 4,
   "metadata": {},
   "outputs": [
    {
     "data": {
      "text/plain": [
       "'x:\\\\CampusX\\\\projects\\\\end-to-end_laptop_project'"
      ]
     },
     "execution_count": 4,
     "metadata": {},
     "output_type": "execute_result"
    }
   ],
   "source": [
    "%pwd"
   ]
  },
  {
   "cell_type": "code",
   "execution_count": 15,
   "metadata": {},
   "outputs": [],
   "source": [
    "from dataclasses import dataclass\n",
    "from pathlib import Path\n",
    "\n",
    "@dataclass(frozen=True)\n",
    "class DataGatheringConfig:\n",
    "    root_dir: Path\n",
    "    source_url: str\n",
    "    local_data_file: Path\n"
   ]
  },
  {
   "cell_type": "code",
   "execution_count": 18,
   "metadata": {},
   "outputs": [],
   "source": [
    "from laptop_ml.constants import *\n",
    "from laptop_ml.utils.common import read_yaml , create_directories\n",
    "\n",
    "class ConfigurationManager:\n",
    "    def __init__(self,\n",
    "                 config_file_path=CONFIG_FILE_PATH,\n",
    "                 params_file_path=PARAMS_FILE_PATH) :\n",
    "        self.config=read_yaml(config_file_path)\n",
    "        self.params=read_yaml(params_file_path)\n",
    "\n",
    "        create_directories([self.config.artifacts_root])\n",
    "\n",
    "    def get_data_gathering_config(self)->DataGatheringConfig:\n",
    "        config=self.config.data_gathering\n",
    "        create_directories([config.root_dir])\n",
    "\n",
    "        data_gathering_config=DataGatheringConfig(\n",
    "            root_dir=config.root_dir,\n",
    "            source_url=config.source_url,\n",
    "            local_data_file=config.local_data_file\n",
    "        )\n",
    "\n",
    "        return data_gathering_config"
   ]
  },
  {
   "cell_type": "code",
   "execution_count": 1,
   "metadata": {},
   "outputs": [],
   "source": [
    "from selenium import webdriver\n",
    "from selenium.webdriver.chrome.service import Service\n",
    "from selenium.webdriver.common.by import By\n",
    "from bs4 import BeautifulSoup\n",
    "import pandas as pd\n",
    "import numpy as np\n",
    "import time"
   ]
  },
  {
   "cell_type": "code",
   "execution_count": 19,
   "metadata": {},
   "outputs": [],
   "source": [
    "class DataGathering:\n",
    "    def __init__(self,config: DataGatheringConfig):\n",
    "        self.config=config\n",
    "        self.driver=webdriver.Chrome()\n",
    "\n",
    "    def load_page(self):\n",
    "        self.driver.get(self.config.source_url)\n",
    "        time.sleep(3)\n",
    "        old_height = self.driver.execute_script('return document.body.scrollHeight')\n",
    "        while True:\n",
    "\n",
    "            self.driver.find_element(by=By.XPATH, value='//*[@id=\"app\"]/main/div[1]/div[3]/div[3]').click()\n",
    "            time.sleep(2)\n",
    "\n",
    "            new_height = self.driver.execute_script('return document.body.scrollHeight')\n",
    "\n",
    "            if new_height == old_height:\n",
    "                break\n",
    "\n",
    "            old_height = new_height\n",
    "\n",
    "    def extract_html(self):\n",
    "        html = self.driver.page_source\n",
    "\n",
    "        with open(self.config.local_data_file,'w',encoding='utf-8') as f:\n",
    "            f.write(html)\n",
    "\n",
    "    def close_driver(self):\n",
    "        self.driver.quit()\n"
   ]
  },
  {
   "cell_type": "code",
   "execution_count": 14,
   "metadata": {},
   "outputs": [],
   "source": [
    "try:\n",
    "    config=ConfigurationManager()\n",
    "    data_gathering_config=config.get_data_gathering_config()\n",
    "    data_gathering=DataGathering(config=data_gathering_config)\n",
    "    data_gathering.load_page()\n",
    "    data_gathering.extract_html()\n",
    "    data_gathering.close_driver()\n",
    "except Exception as e:\n",
    "    raise e"
   ]
  },
  {
   "cell_type": "code",
   "execution_count": null,
   "metadata": {},
   "outputs": [],
   "source": []
  }
 ],
 "metadata": {
  "kernelspec": {
   "display_name": "laptopnenv",
   "language": "python",
   "name": "python3"
  },
  "language_info": {
   "codemirror_mode": {
    "name": "ipython",
    "version": 3
   },
   "file_extension": ".py",
   "mimetype": "text/x-python",
   "name": "python",
   "nbconvert_exporter": "python",
   "pygments_lexer": "ipython3",
   "version": "3.12.4"
  }
 },
 "nbformat": 4,
 "nbformat_minor": 2
}
