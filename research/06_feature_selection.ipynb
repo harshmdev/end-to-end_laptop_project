{
 "cells": [
  {
   "cell_type": "code",
   "execution_count": 1,
   "metadata": {},
   "outputs": [
    {
     "data": {
      "text/plain": [
       "'x:\\\\CampusX\\\\projects\\\\end-to-end_laptop_project\\\\research'"
      ]
     },
     "execution_count": 1,
     "metadata": {},
     "output_type": "execute_result"
    }
   ],
   "source": [
    "%pwd"
   ]
  },
  {
   "cell_type": "code",
   "execution_count": 2,
   "metadata": {},
   "outputs": [],
   "source": [
    "import os\n",
    "os.chdir(\"../\")"
   ]
  },
  {
   "cell_type": "code",
   "execution_count": 3,
   "metadata": {},
   "outputs": [
    {
     "data": {
      "text/plain": [
       "'x:\\\\CampusX\\\\projects\\\\end-to-end_laptop_project'"
      ]
     },
     "execution_count": 3,
     "metadata": {},
     "output_type": "execute_result"
    }
   ],
   "source": [
    "%pwd"
   ]
  },
  {
   "cell_type": "code",
   "execution_count": 4,
   "metadata": {},
   "outputs": [],
   "source": [
    "from dataclasses import dataclass\n",
    "from pathlib import Path"
   ]
  },
  {
   "cell_type": "code",
   "execution_count": 5,
   "metadata": {},
   "outputs": [],
   "source": [
    "@dataclass(frozen=True)\n",
    "class FeatureSelectionConfig:\n",
    "    root_dir: Path\n",
    "    after_missing_value_imputation: Path\n",
    "    selected_data_path: Path"
   ]
  },
  {
   "cell_type": "code",
   "execution_count": 6,
   "metadata": {},
   "outputs": [],
   "source": [
    "from laptop_ml.constants import *\n",
    "from laptop_ml.utils.common import read_yaml , create_directories"
   ]
  },
  {
   "cell_type": "code",
   "execution_count": 7,
   "metadata": {},
   "outputs": [],
   "source": [
    "class ConfigurationManager:\n",
    "    def __init__(self,\n",
    "                 config_file_path=CONFIG_FILE_PATH,\n",
    "                 params_file_path=PARAMS_FILE_PATH):\n",
    "        self.config=read_yaml(config_file_path)\n",
    "        self.params=read_yaml(params_file_path)\n",
    "        create_directories([self.config.artifacts])\n",
    "\n",
    "    def get_feature_selection_config(self)->FeatureSelectionConfig:\n",
    "        config=self.config.feature_selection\n",
    "        create_directories([config.root_dir])\n",
    "\n",
    "        feature_selection_config=FeatureSelectionConfig(\n",
    "            root_dir=config.root_dir,\n",
    "            after_missing_value_imputation=config.after_missing_value_imputation,\n",
    "            selected_data_path=config.selected_data_path\n",
    "        )\n",
    "\n",
    "        return feature_selection_config\n",
    "    \n",
    "        "
   ]
  },
  {
   "cell_type": "code",
   "execution_count": 8,
   "metadata": {},
   "outputs": [],
   "source": [
    "import pandas as pd\n",
    "import numpy as np"
   ]
  },
  {
   "cell_type": "code",
   "execution_count": 9,
   "metadata": {},
   "outputs": [],
   "source": [
    "class FeatureSelection:\n",
    "    def __init__(self, config: FeatureSelectionConfig):\n",
    "        self.config=config\n",
    "        self.df=pd.read_csv(self.config.after_missing_value_imputation)\n",
    "\n",
    "    def export_csv(self,df):\n",
    "        df.to_csv(self.config.selected_data_path,index=False)\n",
    "\n",
    "\n",
    "    def feature_selection(self):\n",
    "        export_df = self.df.drop(columns=[\"processor_brand\",\"processor_model\",\"processor_gen\",\"thread\",\"name\",\"no_of_votes\",\"rating\",\"camera\",\"thickness\",\"usb3\",\"bluetooth\",\"inbuilt_microphone\",\"usb2\",\"hdd\",\"display_port\",\"pixel_width\",\"pixel_height\",\"thunderbolt\",\"wifi\",\"ethernet\",\"num_of_cell\",\"mcr\",\"os\",\"antiglare\",\"type_c\",\"fingerprint_sensor\",\"aspect_ratio\",\"cache\"])\n",
    "        self.export_csv(export_df)\n"
   ]
  },
  {
   "cell_type": "code",
   "execution_count": 10,
   "metadata": {},
   "outputs": [
    {
     "name": "stdout",
     "output_type": "stream",
     "text": [
      "[2024-08-23 14:58:03,304: INFO :common :yaml file: config\\config.yaml loaded successfully]\n",
      "[2024-08-23 14:58:03,320: INFO :common :yaml file: params.yaml loaded successfully]\n",
      "[2024-08-23 14:58:03,323: INFO :common :created directory at: root]\n",
      "[2024-08-23 14:58:03,325: INFO :common :created directory at: artifacts/feature_selection]\n"
     ]
    }
   ],
   "source": [
    "try:\n",
    "    config=ConfigurationManager()\n",
    "    feature_selection_config=config.get_feature_selection_config()\n",
    "    featureselection=FeatureSelection(config=feature_selection_config)\n",
    "    featureselection.feature_selection()\n",
    "except Exception as e:\n",
    "    raise e"
   ]
  },
  {
   "cell_type": "code",
   "execution_count": null,
   "metadata": {},
   "outputs": [],
   "source": []
  }
 ],
 "metadata": {
  "kernelspec": {
   "display_name": "laptopnenv",
   "language": "python",
   "name": "python3"
  },
  "language_info": {
   "codemirror_mode": {
    "name": "ipython",
    "version": 3
   },
   "file_extension": ".py",
   "mimetype": "text/x-python",
   "name": "python",
   "nbconvert_exporter": "python",
   "pygments_lexer": "ipython3",
   "version": "3.12.4"
  }
 },
 "nbformat": 4,
 "nbformat_minor": 2
}
