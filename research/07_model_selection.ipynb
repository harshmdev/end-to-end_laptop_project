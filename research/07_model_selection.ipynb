{
 "cells": [
  {
   "cell_type": "code",
   "execution_count": 1,
   "metadata": {},
   "outputs": [
    {
     "data": {
      "text/plain": [
       "'x:\\\\CampusX\\\\projects\\\\end-to-end_laptop_project\\\\research'"
      ]
     },
     "execution_count": 1,
     "metadata": {},
     "output_type": "execute_result"
    }
   ],
   "source": [
    "%pwd"
   ]
  },
  {
   "cell_type": "code",
   "execution_count": 2,
   "metadata": {},
   "outputs": [],
   "source": [
    "import os\n",
    "os.chdir(\"../\")"
   ]
  },
  {
   "cell_type": "code",
   "execution_count": 3,
   "metadata": {},
   "outputs": [
    {
     "data": {
      "text/plain": [
       "'x:\\\\CampusX\\\\projects\\\\end-to-end_laptop_project'"
      ]
     },
     "execution_count": 3,
     "metadata": {},
     "output_type": "execute_result"
    }
   ],
   "source": [
    "%pwd"
   ]
  },
  {
   "cell_type": "code",
   "execution_count": 35,
   "metadata": {},
   "outputs": [],
   "source": [
    "from dataclasses import dataclass\n",
    "from pathlib import Path"
   ]
  },
  {
   "cell_type": "code",
   "execution_count": 38,
   "metadata": {},
   "outputs": [],
   "source": [
    "@dataclass(frozen=True)\n",
    "class ModelSelectionConfig:\n",
    "    root_dir: Path\n",
    "    after_feature_selection: Path\n",
    "    model_path: Path\n",
    "    svr__C: int\n",
    "    svr__gamma: str\n",
    "    svr__kernel: str"
   ]
  },
  {
   "cell_type": "code",
   "execution_count": 37,
   "metadata": {},
   "outputs": [],
   "source": [
    "from laptop_ml.constants import *\n",
    "from laptop_ml.utils.common import read_yaml, create_directories"
   ]
  },
  {
   "cell_type": "code",
   "execution_count": 39,
   "metadata": {},
   "outputs": [],
   "source": [
    "class ConfigurationManager:\n",
    "    def __init__(self,\n",
    "                 config_file_path=CONFIG_FILE_PATH,\n",
    "                 params_file_path=PARAMS_FILE_PATH):\n",
    "        self.config=read_yaml(config_file_path)\n",
    "        self.params=read_yaml(params_file_path)\n",
    "        create_directories([self.config.artifacts])\n",
    "\n",
    "    def get_model_selection_config(self)->ModelSelectionConfig:\n",
    "        config=self.config.model_selection\n",
    "        param=self.params.model_param\n",
    "        create_directories([config.root_dir])\n",
    "\n",
    "        model_selection_config=ModelSelectionConfig(\n",
    "            root_dir=config.root_dir,\n",
    "            after_feature_selection=config.after_feature_selection,\n",
    "            model_path=config.model_path,\n",
    "            svr__C=param.svr__C,\n",
    "            svr__gamma=param.svr__gamma,\n",
    "            svr__kernel=param.svr__kernel\n",
    "        )\n",
    "        return model_selection_config"
   ]
  },
  {
   "cell_type": "code",
   "execution_count": 41,
   "metadata": {},
   "outputs": [],
   "source": [
    "import numpy as np\n",
    "import pandas as pd\n",
    "from sklearn.model_selection import GridSearchCV\n",
    "from sklearn.model_selection import KFold, cross_val_score\n",
    "from sklearn.svm import SVR\n",
    "from sklearn.pipeline import Pipeline\n",
    "from sklearn.preprocessing import OneHotEncoder, StandardScaler, OrdinalEncoder\n",
    "from sklearn.compose import ColumnTransformer\n",
    "import joblib\n",
    "\n",
    "from sklearn.model_selection import train_test_split\n",
    "from sklearn.metrics import mean_absolute_error"
   ]
  },
  {
   "cell_type": "code",
   "execution_count": 47,
   "metadata": {},
   "outputs": [],
   "source": [
    "class ModelSelection:\n",
    "    def __init__(self,config: ModelSelectionConfig) :\n",
    "        self.config=config\n",
    "        self.df=pd.read_csv(self.config.after_feature_selection,index_col=0)\n",
    "\n",
    "    def prepare_dataset(self,df):\n",
    "        X = df.drop(columns=['price'])\n",
    "        y = df['price']\n",
    "        y_transformed = np.log1p(y)\n",
    "        return X , y , y_transformed\n",
    "    \n",
    "    def export_model(self,pipeline):\n",
    "        joblib.dump(pipeline,self.config.model_path)\n",
    "        \n",
    "    \n",
    "    def encode_columns(self):\n",
    "        columns_to_encode=[\"weight\",\"display_size\",\"battery_capacity\",\"ppi\"]\n",
    "        preprocessor = ColumnTransformer(\n",
    "            transformers=[\n",
    "                ('num', StandardScaler(), [\"ram\",\"ssd\",\"core\",\"warranty\"]),\n",
    "                ('cat', OrdinalEncoder(), columns_to_encode),\n",
    "                ('cat1',OneHotEncoder(drop='first'),[\"brand\",\"utility\",\"graphic\",\"processor\"])\n",
    "            ],\n",
    "            remainder='passthrough'\n",
    "        )\n",
    "        return preprocessor\n",
    "\n",
    "\n",
    "    def train_model(self):\n",
    "        X,y,y_transformed=self.prepare_dataset(self.df)\n",
    "        preprocessor=self.encode_columns()\n",
    "        pipeline=Pipeline([\n",
    "            (\"preprocessor\",preprocessor),\n",
    "            (\"svr\",SVR(C=self.config.svr__C,gamma=self.config.svr__gamma, kernel=self.config.svr__kernel))\n",
    "        ])\n",
    "\n",
    "        pipeline.fit(X,y_transformed)\n",
    "        self.export_model(pipeline)\n",
    "\n",
    "\n",
    "    "
   ]
  },
  {
   "cell_type": "code",
   "execution_count": 48,
   "metadata": {},
   "outputs": [
    {
     "name": "stdout",
     "output_type": "stream",
     "text": [
      "[2024-08-23 17:49:56,805: INFO :common :yaml file: config\\config.yaml loaded successfully]\n",
      "[2024-08-23 17:49:56,805: INFO :common :yaml file: params.yaml loaded successfully]\n",
      "[2024-08-23 17:49:56,814: INFO :common :created directory at: root]\n",
      "[2024-08-23 17:49:56,814: INFO :common :created directory at: artifacts/model_selection]\n"
     ]
    }
   ],
   "source": [
    "try:\n",
    "    config=ConfigurationManager()\n",
    "    model_selection_config=config.get_model_selection_config()\n",
    "    featureselection=ModelSelection(config=model_selection_config)\n",
    "    featureselection.train_model()\n",
    "except Exception as e:\n",
    "    raise e"
   ]
  },
  {
   "cell_type": "code",
   "execution_count": 50,
   "metadata": {},
   "outputs": [],
   "source": [
    "loaded_model=joblib.load(\"artifacts/model_selection/best_svr_model.pkl\")"
   ]
  },
  {
   "cell_type": "code",
   "execution_count": 58,
   "metadata": {},
   "outputs": [],
   "source": [
    "data=[[\"lenovo\",\"Business\",\"lite\",2,\"small\",\"medium\",0,16,1024,\"NVIDIA\",8,1,1,\"medium\",\"Intel i5 11.0\"]]"
   ]
  },
  {
   "cell_type": "code",
   "execution_count": 59,
   "metadata": {},
   "outputs": [],
   "source": [
    "columns=['brand', 'utility', 'weight', 'warranty', 'display_size', 'ppi',\n",
    "       'touch_screen', 'ram', 'ssd', 'graphic', 'core', 'hdmi',\n",
    "       'backlit_keyboard', 'battery_capacity', 'processor']"
   ]
  },
  {
   "cell_type": "code",
   "execution_count": 60,
   "metadata": {},
   "outputs": [
    {
     "data": {
      "text/html": [
       "<div>\n",
       "<style scoped>\n",
       "    .dataframe tbody tr th:only-of-type {\n",
       "        vertical-align: middle;\n",
       "    }\n",
       "\n",
       "    .dataframe tbody tr th {\n",
       "        vertical-align: top;\n",
       "    }\n",
       "\n",
       "    .dataframe thead th {\n",
       "        text-align: right;\n",
       "    }\n",
       "</style>\n",
       "<table border=\"1\" class=\"dataframe\">\n",
       "  <thead>\n",
       "    <tr style=\"text-align: right;\">\n",
       "      <th></th>\n",
       "      <th>brand</th>\n",
       "      <th>utility</th>\n",
       "      <th>weight</th>\n",
       "      <th>warranty</th>\n",
       "      <th>display_size</th>\n",
       "      <th>ppi</th>\n",
       "      <th>touch_screen</th>\n",
       "      <th>ram</th>\n",
       "      <th>ssd</th>\n",
       "      <th>graphic</th>\n",
       "      <th>core</th>\n",
       "      <th>hdmi</th>\n",
       "      <th>backlit_keyboard</th>\n",
       "      <th>battery_capacity</th>\n",
       "      <th>processor</th>\n",
       "    </tr>\n",
       "  </thead>\n",
       "  <tbody>\n",
       "    <tr>\n",
       "      <th>0</th>\n",
       "      <td>lenovo</td>\n",
       "      <td>Business</td>\n",
       "      <td>lite</td>\n",
       "      <td>2</td>\n",
       "      <td>small</td>\n",
       "      <td>medium</td>\n",
       "      <td>0</td>\n",
       "      <td>16</td>\n",
       "      <td>1024</td>\n",
       "      <td>NVIDIA</td>\n",
       "      <td>8</td>\n",
       "      <td>1</td>\n",
       "      <td>1</td>\n",
       "      <td>medium</td>\n",
       "      <td>Intel i5 11.0</td>\n",
       "    </tr>\n",
       "  </tbody>\n",
       "</table>\n",
       "</div>"
      ],
      "text/plain": [
       "    brand   utility weight  warranty display_size     ppi  touch_screen  ram  \\\n",
       "0  lenovo  Business   lite         2        small  medium             0   16   \n",
       "\n",
       "    ssd graphic  core  hdmi  backlit_keyboard battery_capacity      processor  \n",
       "0  1024  NVIDIA     8     1                 1           medium  Intel i5 11.0  "
      ]
     },
     "execution_count": 60,
     "metadata": {},
     "output_type": "execute_result"
    }
   ],
   "source": [
    "one_df = pd.DataFrame(data, columns=columns)\n",
    "\n",
    "one_df"
   ]
  },
  {
   "cell_type": "code",
   "execution_count": 61,
   "metadata": {},
   "outputs": [
    {
     "data": {
      "text/plain": [
       "array([105214.83518766])"
      ]
     },
     "execution_count": 61,
     "metadata": {},
     "output_type": "execute_result"
    }
   ],
   "source": [
    "np.expm1(loaded_model.predict(one_df))"
   ]
  },
  {
   "cell_type": "code",
   "execution_count": null,
   "metadata": {},
   "outputs": [],
   "source": []
  }
 ],
 "metadata": {
  "kernelspec": {
   "display_name": "laptopnenv",
   "language": "python",
   "name": "python3"
  },
  "language_info": {
   "codemirror_mode": {
    "name": "ipython",
    "version": 3
   },
   "file_extension": ".py",
   "mimetype": "text/x-python",
   "name": "python",
   "nbconvert_exporter": "python",
   "pygments_lexer": "ipython3",
   "version": "3.12.4"
  }
 },
 "nbformat": 4,
 "nbformat_minor": 2
}
