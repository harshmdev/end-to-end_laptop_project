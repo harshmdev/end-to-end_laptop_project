{
  "cells": [
    {
      "cell_type": "code",
      "execution_count": 1,
      "metadata": {},
      "outputs": [
        {
          "data": {
            "text/plain": [
              "'x:\\\\CampusX\\\\projects\\\\end-to-end_laptop_project\\\\research'"
            ]
          },
          "execution_count": 1,
          "metadata": {},
          "output_type": "execute_result"
        }
      ],
      "source": [
        "%pwd"
      ]
    },
    {
      "cell_type": "code",
      "execution_count": 2,
      "metadata": {},
      "outputs": [],
      "source": [
        "import os\n",
        "os.chdir(\"../\")"
      ]
    },
    {
      "cell_type": "code",
      "execution_count": 3,
      "metadata": {},
      "outputs": [
        {
          "data": {
            "text/plain": [
              "'x:\\\\CampusX\\\\projects\\\\end-to-end_laptop_project'"
            ]
          },
          "execution_count": 3,
          "metadata": {},
          "output_type": "execute_result"
        }
      ],
      "source": [
        "%pwd"
      ]
    },
    {
      "cell_type": "code",
      "execution_count": 20,
      "metadata": {},
      "outputs": [],
      "source": [
        "from dataclasses import dataclass\n",
        "from pathlib import Path\n",
        "\n",
        "@dataclass(frozen=True)\n",
        "class DataPreprocessingConfig:\n",
        "    root_dir: Path\n",
        "    raw_data_path: Path\n",
        "    preprocessed_data_path: Path\n"
      ]
    },
    {
      "cell_type": "code",
      "execution_count": 21,
      "metadata": {},
      "outputs": [],
      "source": [
        "from laptop_ml.constants import *\n",
        "from laptop_ml.utils.common import read_yaml, create_directories"
      ]
    },
    {
      "cell_type": "code",
      "execution_count": 22,
      "metadata": {},
      "outputs": [],
      "source": [
        "class ConfigurationManager:\n",
        "    def __init__(self,\n",
        "                 config_file_path=CONFIG_FILE_PATH,\n",
        "                 params_file_path=PARAMS_FILE_PATH) :\n",
        "        self.config=read_yaml(config_file_path)\n",
        "        self.params=read_yaml(params_file_path)\n",
        "        create_directories([self.config.artifacts])\n",
        "\n",
        "    def get_data_preprocessing_config(self)->DataPreprocessingConfig:\n",
        "        config=self.config.data_preprocessing\n",
        "        create_directories([config.root_dir])\n",
        "\n",
        "        data_preprocessing_config=DataPreprocessingConfig(\n",
        "            root_dir=config.root_dir,\n",
        "            raw_data_path=config.raw_data_path,\n",
        "            preprocessed_data_path=config.preprocessed_data_path\n",
        "        )\n",
        "\n",
        "        return data_preprocessing_config\n"
      ]
    },
    {
      "cell_type": "code",
      "execution_count": 23,
      "metadata": {
        "id": "tpU5LV33cQbu"
      },
      "outputs": [],
      "source": [
        "import pandas as pd\n",
        "import numpy as np"
      ]
    },
    {
      "cell_type": "code",
      "execution_count": 47,
      "metadata": {},
      "outputs": [],
      "source": [
        "class DataPreprocessing:\n",
        "    def __init__(self, config: DataPreprocessingConfig):\n",
        "        self.config=config\n",
        "        self.df=pd.read_csv(config.raw_data_path,index_col=0)\n",
        "\n",
        "    def extract_attribute(self,attr_list, keyword):\n",
        "        for attr in attr_list:\n",
        "            if keyword in attr:\n",
        "                return attr.strip()\n",
        "        return None\n",
        "     \n",
        "    # Function to extract a specific attribute from the 'general' column\n",
        "    def extract_general_attribute(self,attr_list, keyword):\n",
        "        for attr in attr_list:\n",
        "            if keyword in attr:\n",
        "                return attr.split(':')[-1].strip()\n",
        "        return None\n",
        "    \n",
        "    def weight_extractor(self,attr_list):\n",
        "        for attr in attr_list:\n",
        "            if 'kg' in attr:\n",
        "                return attr\n",
        "        return None\n",
        "    \n",
        "    def extract_processor(self,attr_list):\n",
        "        if attr_list is not None:\n",
        "            return attr_list[0]\n",
        "        return None\n",
        "\n",
        "    def extract_cores(self,attr_list):\n",
        "        if attr_list is not None:\n",
        "            return attr_list[2]\n",
        "        return None\n",
        "\n",
        "    def data_preprocessing(self):\n",
        "        # Extract the brand from the 'name' column\n",
        "        self.df['brand'] = self.df['name'].str.split().str[0]\n",
        "        \n",
        "        # Remove the rupee sign and commas, then convert to numeric\n",
        "        self.df['price'] = self.df['price'].str.replace('₹', '').str.replace(',', '').astype(float)\n",
        "\n",
        "        # Extract the number of votes by splitting the string\n",
        "        self.df['no_of_votes'] = self.df['ratings'].str.split().str[0].str.replace(',', '').astype(int)\n",
        "\n",
        "        # Extract the ratings by splitting the string and removing unnecessary parts\n",
        "        self.df['rating'] = self.df['num_rating_reviews'].str.split(':').str[-1].str.replace(';', '').astype(float)\n",
        "\n",
        "        # Convert the 'general' column strings into lists\n",
        "        self.df['general_list'] = self.df['general'].str.strip(\"[]\").str.replace(\"'\", \"\").str.split(',')\n",
        "        self.df[\"display_list\"]=self.df[\"display\"].str.strip(\"[]\").str.replace(\"'\",\"\").str.split(\",\")\n",
        "        self.df[\"performance_list\"]=self.df[\"performance\"].str.strip(\"[]\").str.replace(\"'\",\"\").str.split(\",\")\n",
        "        self.df[\"connectivity_list\"]=self.df[\"connectivity\"].str.strip(\"[]\").str.replace(\"'\",\"\").str.split(\",\")\n",
        "        self.df[\"battery_list\"] = self.df[\"battery\"].apply(lambda x: x.strip(\"[]\").replace(\"'\", \"\").split(\",\") if isinstance(x, str) else [])\n",
        "\n",
        "        # Extract attributes into separate columns\n",
        "        self.df['os'] = self.df['general_list'].apply(lambda x: self.extract_general_attribute(x, 'OS'))\n",
        "        self.df['utility'] = self.df['general_list'].apply(lambda x: self.extract_general_attribute(x, 'Utility'))\n",
        "        self.df['thickness'] = self.df['general_list'].apply(lambda x: self.extract_general_attribute(x, 'Thickness'))\n",
        "        self.df['weight'] = self.df['general_list'].apply(lambda x: self.weight_extractor(x) )\n",
        "        self.df['warranty'] = self.df['general_list'].apply(lambda x: self.extract_general_attribute(x, 'Warranty'))    \n",
        "        self.df[\"display_size\"]=self.df[\"display_list\"].apply(lambda x:self.extract_attribute(x,\"inches\"))\n",
        "        self.df[\"pixel\"]=self.df[\"display_list\"].apply(lambda x:self.extract_attribute(x,\"pixels\"))\n",
        "        self.df[\"ppi\"]=self.df[\"display_list\"].apply(lambda x:self.extract_attribute(x,\"PPI\"))\n",
        "        self.df[\"aspect_ratio\"]=self.df[\"display_list\"].apply(lambda x:self.extract_attribute(x,\"Aspect\"))\n",
        "        self.df[\"antiglare\"]=self.df[\"display_list\"].apply(lambda x:self.extract_attribute(x,\"Anti\"))\n",
        "        self.df[\"touch_screen\"]=self.df[\"display_list\"].apply(lambda x:self.extract_attribute(x,\"Touch\"))\n",
        "        self.df[\"ram\"]=self.df[\"performance_list\"].apply(lambda x:self.extract_attribute(x,\"RAM\"))\n",
        "        self.df[\"hdd\"]=self.df[\"performance_list\"].apply(lambda x:self.extract_attribute(x,\"HARD\"))\n",
        "        self.df[\"ssd\"]=self.df[\"performance_list\"].apply(lambda x:self.extract_attribute(x,\"SSD\"))\n",
        "        self.df[\"graphic\"]=self.df[\"performance_list\"].apply(lambda x:self.extract_attribute(x,\"Graphics\"))\n",
        "        self.df[\"cache\"]=self.df[\"performance_list\"].apply(lambda x:self.extract_attribute(x,\"Cache\"))\n",
        "        self.df[\"thread\"]=self.df[\"performance_list\"].apply(lambda x:self.extract_attribute(x,\"Threads\"))\n",
        "        self.df[\"processor\"]=self.df[\"performance_list\"].apply(lambda x:self.extract_processor(x))\n",
        "        self.df[\"core\"]=self.df[\"performance_list\"].apply(lambda x:self.extract_cores(x))\n",
        "        self.df[\"hdmi\"]=self.df[\"connectivity_list\"].apply(lambda x:self.extract_attribute(x,\"HDMI\"))\n",
        "        self.df[\"mcr\"]=self.df[\"connectivity_list\"].apply(lambda x:self.extract_attribute(x,\"Multi\"))\n",
        "        self.df[\"wifi\"]=self.df[\"connectivity_list\"].apply(lambda x:self.extract_attribute(x,\"WiFi\"))\n",
        "        self.df[\"bluetooth\"]=self.df[\"connectivity_list\"].apply(lambda x:self.extract_attribute(x,\"Bluetooth\"))\n",
        "        self.df[\"usb\"]=self.df[\"connectivity_list\"].apply(lambda x:self.extract_attribute(x,\"USB\"))\n",
        "        self.df[\"backlit_keyboard\"]=self.df[\"connectivity_list\"].apply(lambda x:self.extract_attribute(x,\"Backlit\"))\n",
        "        self.df[\"inbuilt_microphone\"]=self.df[\"connectivity_list\"].apply(lambda x:self.extract_attribute(x,\"Microphone\"))\n",
        "        self.df[\"thunderbolt\"]=self.df[\"connectivity_list\"].apply(lambda x:self.extract_attribute(x,\"Thunderbolt\"))\n",
        "        self.df[\"fingerprint_sensor\"]=self.df[\"connectivity_list\"].apply(lambda x:self.extract_attribute(x,\"Fingerprint\"))\n",
        "        self.df[\"ethernet\"]=self.df[\"connectivity_list\"].apply(lambda x:self.extract_attribute(x,\"Ethernet\"))\n",
        "        self.df[\"display_port\"]=self.df[\"connectivity_list\"].apply(lambda x:self.extract_attribute(x,\"Display\"))\n",
        "        self.df[\"camera\"]=self.df[\"connectivity_list\"].apply(lambda x:self.extract_attribute(x,\"Camera\"))\n",
        "        self.df[\"num_of_cell\"]=self.df[\"battery_list\"].apply(lambda x:self.extract_attribute(x,\"Cell\"))\n",
        "        self.df[\"battery_capacity\"]=self.df[\"battery_list\"].apply(lambda x:self.extract_attribute(x,\"Wh\"))\n",
        "\n",
        "        self.df.drop(columns=[\"ratings\", \"num_rating_reviews\", \"general\",\"general_list\",\"display\",\"display_list\",\"performance\",\"performance_list\",\"connectivity\",\"connectivity_list\",\"battery\",\"battery_list\"] , inplace=True)\n",
        "\n",
        "        \n",
        "    def export_preprocessed_data(self):\n",
        "        self.df.to_csv(self.config.preprocessed_data_path , index=False)"
      ]
    },
    {
      "cell_type": "code",
      "execution_count": 51,
      "metadata": {
        "id": "NUoUxwTvdkev"
      },
      "outputs": [
        {
          "name": "stdout",
          "output_type": "stream",
          "text": [
            "[2024-08-15 13:56:03,892: INFO :common :yaml file: config\\config.yaml loaded successfully]\n",
            "[2024-08-15 13:56:03,896: INFO :common :yaml file: params.yaml loaded successfully]\n",
            "[2024-08-15 13:56:03,898: INFO :common :created directory at: root]\n",
            "[2024-08-15 13:56:03,902: INFO :common :created directory at: artifacts/data_preprocessing]\n"
          ]
        }
      ],
      "source": [
        "try:\n",
        "    config=ConfigurationManager()\n",
        "    data_preprocessing_config=config.get_data_preprocessing_config()\n",
        "    data_preprocessing=DataPreprocessing(config=data_preprocessing_config)\n",
        "    data_preprocessing.data_preprocessing()\n",
        "    data_preprocessing.export_preprocessed_data()\n",
        "except Exception as e:\n",
        "    raise e"
      ]
    },
    {
      "cell_type": "code",
      "execution_count": null,
      "metadata": {},
      "outputs": [],
      "source": []
    }
  ],
  "metadata": {
    "colab": {
      "provenance": [],
      "toc_visible": true
    },
    "kernelspec": {
      "display_name": "Python 3",
      "name": "python3"
    },
    "language_info": {
      "codemirror_mode": {
        "name": "ipython",
        "version": 3
      },
      "file_extension": ".py",
      "mimetype": "text/x-python",
      "name": "python",
      "nbconvert_exporter": "python",
      "pygments_lexer": "ipython3",
      "version": "3.12.4"
    }
  },
  "nbformat": 4,
  "nbformat_minor": 0
}
