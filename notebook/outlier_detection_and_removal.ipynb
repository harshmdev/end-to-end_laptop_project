{
  "nbformat": 4,
  "nbformat_minor": 0,
  "metadata": {
    "colab": {
      "provenance": []
    },
    "kernelspec": {
      "name": "python3",
      "display_name": "Python 3"
    },
    "language_info": {
      "name": "python"
    }
  },
  "cells": [
    {
      "cell_type": "code",
      "execution_count": 1,
      "metadata": {
        "id": "GCgdfDibjJUU"
      },
      "outputs": [],
      "source": [
        "import pandas as pd\n",
        "import matplotlib.pyplot as plt\n",
        "import seaborn as sns"
      ]
    },
    {
      "cell_type": "code",
      "source": [
        "df=pd.read_csv('/content/after_missing_value_imputation.csv')"
      ],
      "metadata": {
        "id": "ly4A6WW-jr9Z"
      },
      "execution_count": 2,
      "outputs": []
    },
    {
      "cell_type": "code",
      "source": [
        "df.info()"
      ],
      "metadata": {
        "colab": {
          "base_uri": "https://localhost:8080/"
        },
        "id": "NBADhKsfjmzJ",
        "outputId": "7fc4e531-7a91-4b66-c54c-6df9efe906c7"
      },
      "execution_count": 3,
      "outputs": [
        {
          "output_type": "stream",
          "name": "stdout",
          "text": [
            "<class 'pandas.core.frame.DataFrame'>\n",
            "RangeIndex: 798 entries, 0 to 797\n",
            "Data columns (total 43 columns):\n",
            " #   Column              Non-Null Count  Dtype  \n",
            "---  ------              --------------  -----  \n",
            " 0   name                798 non-null    object \n",
            " 1   price               798 non-null    float64\n",
            " 2   brand               798 non-null    object \n",
            " 3   no_of_votes         798 non-null    int64  \n",
            " 4   rating              798 non-null    float64\n",
            " 5   os                  798 non-null    object \n",
            " 6   utility             798 non-null    object \n",
            " 7   thickness           798 non-null    object \n",
            " 8   weight              798 non-null    object \n",
            " 9   warranty            798 non-null    float64\n",
            " 10  display_size        798 non-null    object \n",
            " 11  ppi                 798 non-null    int64  \n",
            " 12  aspect_ratio        798 non-null    object \n",
            " 13  antiglare           798 non-null    int64  \n",
            " 14  touch_screen        798 non-null    int64  \n",
            " 15  ram                 798 non-null    int64  \n",
            " 16  hdd                 798 non-null    int64  \n",
            " 17  ssd                 798 non-null    int64  \n",
            " 18  graphic             798 non-null    object \n",
            " 19  cache               798 non-null    float64\n",
            " 20  thread              798 non-null    float64\n",
            " 21  core                798 non-null    float64\n",
            " 22  hdmi                798 non-null    int64  \n",
            " 23  mcr                 798 non-null    int64  \n",
            " 24  wifi                798 non-null    int64  \n",
            " 25  bluetooth           798 non-null    int64  \n",
            " 26  backlit_keyboard    798 non-null    int64  \n",
            " 27  inbuilt_microphone  798 non-null    int64  \n",
            " 28  thunderbolt         798 non-null    int64  \n",
            " 29  fingerprint_sensor  798 non-null    int64  \n",
            " 30  ethernet            798 non-null    int64  \n",
            " 31  display_port        798 non-null    int64  \n",
            " 32  camera              29 non-null     float64\n",
            " 33  num_of_cell         798 non-null    float64\n",
            " 34  battery_capacity    798 non-null    float64\n",
            " 35  pixel_width         798 non-null    float64\n",
            " 36  pixel_height        798 non-null    float64\n",
            " 37  usb3                798 non-null    int64  \n",
            " 38  usb2                798 non-null    int64  \n",
            " 39  type_c              798 non-null    int64  \n",
            " 40  processor_brand     798 non-null    object \n",
            " 41  processor_model     798 non-null    object \n",
            " 42  processor_gen       798 non-null    float64\n",
            "dtypes: float64(12), int64(20), object(11)\n",
            "memory usage: 268.2+ KB\n"
          ]
        }
      ]
    },
    {
      "cell_type": "code",
      "source": [
        "numerical_columns=df.select_dtypes(include=['int64','float64']).columns"
      ],
      "metadata": {
        "id": "PSow0eDhjy5j"
      },
      "execution_count": 4,
      "outputs": []
    },
    {
      "cell_type": "code",
      "source": [
        "numerical_columns"
      ],
      "metadata": {
        "colab": {
          "base_uri": "https://localhost:8080/"
        },
        "id": "7CjaQrWVkJVj",
        "outputId": "d7780793-3025-43a1-f512-977ddb42b0bf"
      },
      "execution_count": 5,
      "outputs": [
        {
          "output_type": "execute_result",
          "data": {
            "text/plain": [
              "Index(['price', 'no_of_votes', 'rating', 'warranty', 'ppi', 'antiglare',\n",
              "       'touch_screen', 'ram', 'hdd', 'ssd', 'cache', 'thread', 'core', 'hdmi',\n",
              "       'mcr', 'wifi', 'bluetooth', 'backlit_keyboard', 'inbuilt_microphone',\n",
              "       'thunderbolt', 'fingerprint_sensor', 'ethernet', 'display_port',\n",
              "       'camera', 'num_of_cell', 'battery_capacity', 'pixel_width',\n",
              "       'pixel_height', 'usb3', 'usb2', 'type_c', 'processor_gen'],\n",
              "      dtype='object')"
            ]
          },
          "metadata": {},
          "execution_count": 5
        }
      ]
    },
    {
      "cell_type": "code",
      "source": [
        "df[\"battery_capacity\"].describe()"
      ],
      "metadata": {
        "colab": {
          "base_uri": "https://localhost:8080/",
          "height": 335
        },
        "id": "we7yirR2nDK9",
        "outputId": "a0b5849d-54cf-4470-bdbc-18c60c84ff78"
      },
      "execution_count": 17,
      "outputs": [
        {
          "output_type": "execute_result",
          "data": {
            "text/plain": [
              "count    798.000000\n",
              "mean      56.172449\n",
              "std       16.341716\n",
              "min        6.000000\n",
              "25%       45.000000\n",
              "50%       50.000000\n",
              "75%       68.000000\n",
              "max      100.000000\n",
              "Name: battery_capacity, dtype: float64"
            ],
            "text/html": [
              "<div>\n",
              "<style scoped>\n",
              "    .dataframe tbody tr th:only-of-type {\n",
              "        vertical-align: middle;\n",
              "    }\n",
              "\n",
              "    .dataframe tbody tr th {\n",
              "        vertical-align: top;\n",
              "    }\n",
              "\n",
              "    .dataframe thead th {\n",
              "        text-align: right;\n",
              "    }\n",
              "</style>\n",
              "<table border=\"1\" class=\"dataframe\">\n",
              "  <thead>\n",
              "    <tr style=\"text-align: right;\">\n",
              "      <th></th>\n",
              "      <th>battery_capacity</th>\n",
              "    </tr>\n",
              "  </thead>\n",
              "  <tbody>\n",
              "    <tr>\n",
              "      <th>count</th>\n",
              "      <td>798.000000</td>\n",
              "    </tr>\n",
              "    <tr>\n",
              "      <th>mean</th>\n",
              "      <td>56.172449</td>\n",
              "    </tr>\n",
              "    <tr>\n",
              "      <th>std</th>\n",
              "      <td>16.341716</td>\n",
              "    </tr>\n",
              "    <tr>\n",
              "      <th>min</th>\n",
              "      <td>6.000000</td>\n",
              "    </tr>\n",
              "    <tr>\n",
              "      <th>25%</th>\n",
              "      <td>45.000000</td>\n",
              "    </tr>\n",
              "    <tr>\n",
              "      <th>50%</th>\n",
              "      <td>50.000000</td>\n",
              "    </tr>\n",
              "    <tr>\n",
              "      <th>75%</th>\n",
              "      <td>68.000000</td>\n",
              "    </tr>\n",
              "    <tr>\n",
              "      <th>max</th>\n",
              "      <td>100.000000</td>\n",
              "    </tr>\n",
              "  </tbody>\n",
              "</table>\n",
              "</div><br><label><b>dtype:</b> float64</label>"
            ]
          },
          "metadata": {},
          "execution_count": 17
        }
      ]
    },
    {
      "cell_type": "code",
      "source": [
        "df[\"pixel_width\"].describe()"
      ],
      "metadata": {
        "colab": {
          "base_uri": "https://localhost:8080/",
          "height": 335
        },
        "id": "QiwnUXYsnDIR",
        "outputId": "bdd507d4-4bc2-49f9-a70e-0543b3fb8b81"
      },
      "execution_count": 18,
      "outputs": [
        {
          "output_type": "execute_result",
          "data": {
            "text/plain": [
              "count     798.000000\n",
              "mean     2040.756892\n",
              "std       441.772838\n",
              "min      1080.000000\n",
              "25%      1920.000000\n",
              "50%      1920.000000\n",
              "75%      1920.000000\n",
              "max      3840.000000\n",
              "Name: pixel_width, dtype: float64"
            ],
            "text/html": [
              "<div>\n",
              "<style scoped>\n",
              "    .dataframe tbody tr th:only-of-type {\n",
              "        vertical-align: middle;\n",
              "    }\n",
              "\n",
              "    .dataframe tbody tr th {\n",
              "        vertical-align: top;\n",
              "    }\n",
              "\n",
              "    .dataframe thead th {\n",
              "        text-align: right;\n",
              "    }\n",
              "</style>\n",
              "<table border=\"1\" class=\"dataframe\">\n",
              "  <thead>\n",
              "    <tr style=\"text-align: right;\">\n",
              "      <th></th>\n",
              "      <th>pixel_width</th>\n",
              "    </tr>\n",
              "  </thead>\n",
              "  <tbody>\n",
              "    <tr>\n",
              "      <th>count</th>\n",
              "      <td>798.000000</td>\n",
              "    </tr>\n",
              "    <tr>\n",
              "      <th>mean</th>\n",
              "      <td>2040.756892</td>\n",
              "    </tr>\n",
              "    <tr>\n",
              "      <th>std</th>\n",
              "      <td>441.772838</td>\n",
              "    </tr>\n",
              "    <tr>\n",
              "      <th>min</th>\n",
              "      <td>1080.000000</td>\n",
              "    </tr>\n",
              "    <tr>\n",
              "      <th>25%</th>\n",
              "      <td>1920.000000</td>\n",
              "    </tr>\n",
              "    <tr>\n",
              "      <th>50%</th>\n",
              "      <td>1920.000000</td>\n",
              "    </tr>\n",
              "    <tr>\n",
              "      <th>75%</th>\n",
              "      <td>1920.000000</td>\n",
              "    </tr>\n",
              "    <tr>\n",
              "      <th>max</th>\n",
              "      <td>3840.000000</td>\n",
              "    </tr>\n",
              "  </tbody>\n",
              "</table>\n",
              "</div><br><label><b>dtype:</b> float64</label>"
            ]
          },
          "metadata": {},
          "execution_count": 18
        }
      ]
    },
    {
      "cell_type": "code",
      "source": [],
      "metadata": {
        "id": "IWi2HTPrnDFM"
      },
      "execution_count": null,
      "outputs": []
    },
    {
      "cell_type": "code",
      "source": [],
      "metadata": {
        "id": "Twj5qtOjnDDS"
      },
      "execution_count": null,
      "outputs": []
    },
    {
      "cell_type": "code",
      "source": [
        "df[\"ppi\"].describe()"
      ],
      "metadata": {
        "colab": {
          "base_uri": "https://localhost:8080/",
          "height": 335
        },
        "id": "9OMpDVZZkLRP",
        "outputId": "26bcc73f-4543-4d27-8cea-06bde0fbf001"
      },
      "execution_count": 7,
      "outputs": [
        {
          "output_type": "execute_result",
          "data": {
            "text/plain": [
              "count    798.000000\n",
              "mean     159.058897\n",
              "std       37.956163\n",
              "min      100.000000\n",
              "25%      141.000000\n",
              "50%      141.000000\n",
              "75%      157.000000\n",
              "max      323.000000\n",
              "Name: ppi, dtype: float64"
            ],
            "text/html": [
              "<div>\n",
              "<style scoped>\n",
              "    .dataframe tbody tr th:only-of-type {\n",
              "        vertical-align: middle;\n",
              "    }\n",
              "\n",
              "    .dataframe tbody tr th {\n",
              "        vertical-align: top;\n",
              "    }\n",
              "\n",
              "    .dataframe thead th {\n",
              "        text-align: right;\n",
              "    }\n",
              "</style>\n",
              "<table border=\"1\" class=\"dataframe\">\n",
              "  <thead>\n",
              "    <tr style=\"text-align: right;\">\n",
              "      <th></th>\n",
              "      <th>ppi</th>\n",
              "    </tr>\n",
              "  </thead>\n",
              "  <tbody>\n",
              "    <tr>\n",
              "      <th>count</th>\n",
              "      <td>798.000000</td>\n",
              "    </tr>\n",
              "    <tr>\n",
              "      <th>mean</th>\n",
              "      <td>159.058897</td>\n",
              "    </tr>\n",
              "    <tr>\n",
              "      <th>std</th>\n",
              "      <td>37.956163</td>\n",
              "    </tr>\n",
              "    <tr>\n",
              "      <th>min</th>\n",
              "      <td>100.000000</td>\n",
              "    </tr>\n",
              "    <tr>\n",
              "      <th>25%</th>\n",
              "      <td>141.000000</td>\n",
              "    </tr>\n",
              "    <tr>\n",
              "      <th>50%</th>\n",
              "      <td>141.000000</td>\n",
              "    </tr>\n",
              "    <tr>\n",
              "      <th>75%</th>\n",
              "      <td>157.000000</td>\n",
              "    </tr>\n",
              "    <tr>\n",
              "      <th>max</th>\n",
              "      <td>323.000000</td>\n",
              "    </tr>\n",
              "  </tbody>\n",
              "</table>\n",
              "</div><br><label><b>dtype:</b> float64</label>"
            ]
          },
          "metadata": {},
          "execution_count": 7
        }
      ]
    },
    {
      "cell_type": "code",
      "source": [
        "sns.boxplot(x=df[\"ppi\"])"
      ],
      "metadata": {
        "colab": {
          "base_uri": "https://localhost:8080/",
          "height": 467
        },
        "id": "B5BE_DuUk9LM",
        "outputId": "f5aeab8e-7c69-4af8-c7ed-afc51c3c83d2"
      },
      "execution_count": 9,
      "outputs": [
        {
          "output_type": "execute_result",
          "data": {
            "text/plain": [
              "<Axes: xlabel='ppi'>"
            ]
          },
          "metadata": {},
          "execution_count": 9
        },
        {
          "output_type": "display_data",
          "data": {
            "text/plain": [
              "<Figure size 640x480 with 1 Axes>"
            ],
            "image/png": "[encoded data removed]"
          },
          "metadata": {}
        }
      ]
    },
    {
      "cell_type": "code",
      "source": [
        "quantiles=df[\"ppi\"].quantile([0.25,0.75])\n",
        "q1=quantiles[0.25]\n",
        "q3=quantiles[0.75]\n",
        "iqr=q3-q1\n",
        "lower_bound=q1-1.5*iqr\n",
        "upper_bound=q3+1.5*iqr"
      ],
      "metadata": {
        "id": "gXrz0ZXplDCe"
      },
      "execution_count": 10,
      "outputs": []
    },
    {
      "cell_type": "code",
      "source": [
        "lower_bound\n",
        "upper_bound"
      ],
      "metadata": {
        "colab": {
          "base_uri": "https://localhost:8080/"
        },
        "id": "QFDFvS9jmCzb",
        "outputId": "6bcb1c0f-06fa-4fe3-a9eb-434a4faaca2a"
      },
      "execution_count": 16,
      "outputs": [
        {
          "output_type": "execute_result",
          "data": {
            "text/plain": [
              "181.0"
            ]
          },
          "metadata": {},
          "execution_count": 16
        }
      ]
    },
    {
      "cell_type": "code",
      "source": [
        "outliers=df[(df[\"ppi\"]<lower_bound) | (df[\"ppi\"]>upper_bound)]"
      ],
      "metadata": {
        "id": "0jKbj65ZllyC"
      },
      "execution_count": 13,
      "outputs": []
    },
    {
      "cell_type": "code",
      "source": [
        "outliers.shape"
      ],
      "metadata": {
        "colab": {
          "base_uri": "https://localhost:8080/"
        },
        "id": "sfjIMnQzl37Q",
        "outputId": "e4f19163-2a17-4a3a-e114-c65568981dca"
      },
      "execution_count": 14,
      "outputs": [
        {
          "output_type": "execute_result",
          "data": {
            "text/plain": [
              "(175, 43)"
            ]
          },
          "metadata": {},
          "execution_count": 14
        }
      ]
    },
    {
      "cell_type": "code",
      "source": [],
      "metadata": {
        "id": "BSzFFibomjP8"
      },
      "execution_count": null,
      "outputs": []
    }
  ]
}